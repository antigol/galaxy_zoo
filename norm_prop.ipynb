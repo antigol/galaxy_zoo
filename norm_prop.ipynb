{
 "cells": [
  {
   "cell_type": "code",
   "execution_count": 1,
   "metadata": {
    "collapsed": false
   },
   "outputs": [
    {
     "name": "stdout",
     "output_type": "stream",
     "text": [
      "done\n"
     ]
    }
   ],
   "source": [
    "import tensorflow as tf\n",
    "import importlib.util\n",
    "import numpy as np\n",
    "import matplotlib.pyplot as plt\n",
    "%matplotlib inline\n",
    "print(\"done\")"
   ]
  },
  {
   "cell_type": "markdown",
   "metadata": {},
   "source": [
    "# Check the normalisation by feeding with normal random values"
   ]
  },
  {
   "cell_type": "code",
   "execution_count": 2,
   "metadata": {
    "collapsed": false
   },
   "outputs": [
    {
     "name": "stdout",
     "output_type": "stream",
     "text": [
      "done\n",
      "done\n",
      "done\n",
      "[None, 1, 1, 128]\n",
      "done\n",
      "done\n"
     ]
    }
   ],
   "source": [
    "arch_path = 'arch_invariant_c.py'\n",
    "bands = 4\n",
    "\n",
    "tf.reset_default_graph()\n",
    "spec = importlib.util.spec_from_file_location(\"module.name\", arch_path)\n",
    "neural = importlib.util.module_from_spec(spec)\n",
    "spec.loader.exec_module(neural)\n",
    "CNN = neural.CNN\n",
    "print(\"done\")\n",
    "\n",
    "cnn = CNN()\n",
    "print(\"done\")\n",
    "\n",
    "config = tf.ConfigProto()\n",
    "config.gpu_options.allow_growth = True\n",
    "sess = tf.Session(config=config)\n",
    "print(\"done\")\n",
    "\n",
    "cnn.create_architecture()\n",
    "print(\"done\")\n",
    "\n",
    "sess.run(tf.global_variables_initializer())\n",
    "print(\"done\")"
   ]
  },
  {
   "cell_type": "code",
   "execution_count": 3,
   "metadata": {
    "collapsed": false
   },
   "outputs": [
    {
     "data": {
      "text/plain": [
       "[<tf.Tensor 'input:0' shape=(?, 424, 424, 3) dtype=float32>,\n",
       " <tf.Tensor 'input:0' shape=(?, 424, 424, 3) dtype=float32>,\n",
       " <tf.Tensor 'nn/bn-4/batchnorm/add_1:0' shape=(?, 211, 211, 4) dtype=float32>,\n",
       " <tf.Tensor 'nn/bn-4/batchnorm/add_1:0' shape=(?, 211, 211, 4) dtype=float32>,\n",
       " <tf.Tensor 'nn/bn-8x1/batchnorm/add_1:0' shape=(?, 211, 211, 8) dtype=float32>,\n",
       " <tf.Tensor 'nn/bn-8x1/batchnorm/add_1:0' shape=(?, 211, 211, 8) dtype=float32>,\n",
       " <tf.Tensor 'nn/convolution2_1/mul_2:0' shape=(?, 209, 209, 4) dtype=float32>,\n",
       " <tf.Tensor 'nn/convolution2_1/mul_2:0' shape=(?, 209, 209, 4) dtype=float32>,\n",
       " <tf.Tensor 'nn/convolution2_1/mul_3:0' shape=(?, 209, 209, 8) dtype=float32>,\n",
       " <tf.Tensor 'nn/convolution2_1/mul_3:0' shape=(?, 209, 209, 8) dtype=float32>,\n",
       " <tf.Tensor 'nn/bn-8/batchnorm/add_1:0' shape=(?, 103, 103, 8) dtype=float32>,\n",
       " <tf.Tensor 'nn/bn-8/batchnorm/add_1:0' shape=(?, 103, 103, 8) dtype=float32>,\n",
       " <tf.Tensor 'nn/bn-8x2/batchnorm/add_1:0' shape=(?, 103, 103, 16) dtype=float32>,\n",
       " <tf.Tensor 'nn/bn-8x2/batchnorm/add_1:0' shape=(?, 103, 103, 16) dtype=float32>,\n",
       " <tf.Tensor 'nn/convolution2_3/mul_2:0' shape=(?, 101, 101, 8) dtype=float32>,\n",
       " <tf.Tensor 'nn/convolution2_3/mul_2:0' shape=(?, 101, 101, 8) dtype=float32>,\n",
       " <tf.Tensor 'nn/convolution2_3/mul_3:0' shape=(?, 101, 101, 16) dtype=float32>,\n",
       " <tf.Tensor 'nn/convolution2_3/mul_3:0' shape=(?, 101, 101, 16) dtype=float32>,\n",
       " <tf.Tensor 'nn/bn-16/batchnorm/add_1:0' shape=(?, 49, 49, 16) dtype=float32>,\n",
       " <tf.Tensor 'nn/bn-16/batchnorm/add_1:0' shape=(?, 49, 49, 16) dtype=float32>,\n",
       " <tf.Tensor 'nn/bn-8x4/batchnorm/add_1:0' shape=(?, 49, 49, 32) dtype=float32>,\n",
       " <tf.Tensor 'nn/bn-8x4/batchnorm/add_1:0' shape=(?, 49, 49, 32) dtype=float32>,\n",
       " <tf.Tensor 'nn/convolution2_5/mul_2:0' shape=(?, 47, 47, 16) dtype=float32>,\n",
       " <tf.Tensor 'nn/convolution2_5/mul_2:0' shape=(?, 47, 47, 16) dtype=float32>,\n",
       " <tf.Tensor 'nn/convolution2_5/mul_3:0' shape=(?, 47, 47, 32) dtype=float32>,\n",
       " <tf.Tensor 'nn/convolution2_5/mul_3:0' shape=(?, 47, 47, 32) dtype=float32>,\n",
       " <tf.Tensor 'nn/bn-32/batchnorm/add_1:0' shape=(?, 22, 22, 32) dtype=float32>,\n",
       " <tf.Tensor 'nn/bn-32/batchnorm/add_1:0' shape=(?, 22, 22, 32) dtype=float32>,\n",
       " <tf.Tensor 'nn/bn-8x8/batchnorm/add_1:0' shape=(?, 22, 22, 64) dtype=float32>,\n",
       " <tf.Tensor 'nn/bn-8x8/batchnorm/add_1:0' shape=(?, 22, 22, 64) dtype=float32>,\n",
       " <tf.Tensor 'nn/convolution2_7/mul_2:0' shape=(?, 20, 20, 32) dtype=float32>,\n",
       " <tf.Tensor 'nn/convolution2_7/mul_2:0' shape=(?, 20, 20, 32) dtype=float32>,\n",
       " <tf.Tensor 'nn/convolution2_7/mul_3:0' shape=(?, 20, 20, 64) dtype=float32>,\n",
       " <tf.Tensor 'nn/convolution2_7/mul_3:0' shape=(?, 20, 20, 64) dtype=float32>,\n",
       " <tf.Tensor 'nn/bn-64/batchnorm/add_1:0' shape=(?, 9, 9, 64) dtype=float32>,\n",
       " <tf.Tensor 'nn/bn-64/batchnorm/add_1:0' shape=(?, 9, 9, 64) dtype=float32>,\n",
       " <tf.Tensor 'nn/bn-8x16/batchnorm/add_1:0' shape=(?, 9, 9, 128) dtype=float32>,\n",
       " <tf.Tensor 'nn/bn-8x16/batchnorm/add_1:0' shape=(?, 9, 9, 128) dtype=float32>,\n",
       " <tf.Tensor 'nn/bn-128/batchnorm/add_1:0' shape=(?, 7, 7, 128) dtype=float32>,\n",
       " <tf.Tensor 'nn/bn-128/batchnorm/add_1:0' shape=(?, 7, 7, 128) dtype=float32>,\n",
       " <tf.Tensor 'nn/bn-8x32/batchnorm/add_1:0' shape=(?, 7, 7, 256) dtype=float32>,\n",
       " <tf.Tensor 'nn/bn-8x32/batchnorm/add_1:0' shape=(?, 7, 7, 256) dtype=float32>,\n",
       " <tf.Tensor 'nn/Reshape:0' shape=(?, 128) dtype=float32>,\n",
       " <tf.Tensor 'nn/Reshape:0' shape=(?, 128) dtype=float32>,\n",
       " <tf.Tensor 'nn/Reshape_1:0' shape=(?, 256) dtype=float32>,\n",
       " <tf.Tensor 'nn/Reshape_1:0' shape=(?, 256) dtype=float32>,\n",
       " <tf.Tensor 'nn/dropout_2/mul:0' shape=(?, 256) dtype=float32>,\n",
       " <tf.Tensor 'nn/dropout_2/mul:0' shape=(?, 256) dtype=float32>,\n",
       " <tf.Tensor 'nn/dropout_3/mul:0' shape=(?, 512) dtype=float32>,\n",
       " <tf.Tensor 'nn/dropout_3/mul:0' shape=(?, 512) dtype=float32>,\n",
       " <tf.Tensor 'nn/bn-256_1/batchnorm/add_1:0' shape=(?, 256) dtype=float32>,\n",
       " <tf.Tensor 'nn/bn-8x64_1/batchnorm/add_1:0' shape=(?, 512) dtype=float32>]"
      ]
     },
     "execution_count": 3,
     "metadata": {},
     "output_type": "execute_result"
    }
   ],
   "source": [
    "tensors = [o.inputs[0] for o in tf.get_default_graph().get_operations() if not 'gradients' in o.name \n",
    "           and ('Conv2D' in o.name or 'MatMul' in o.name or 'MaxPool' in o.name or 'Sigmoid' in o.name)]\n",
    "tensors"
   ]
  },
  {
   "cell_type": "code",
   "execution_count": 4,
   "metadata": {
    "collapsed": false
   },
   "outputs": [
    {
     "name": "stdout",
     "output_type": "stream",
     "text": [
      "done\n"
     ]
    }
   ],
   "source": [
    "x = np.random.normal(size=(10, 424, 424, 3))\n",
    "y = sess.run(tensors, feed_dict={cnn.tfx: x})\n",
    "print(\"done\")"
   ]
  },
  {
   "cell_type": "code",
   "execution_count": 5,
   "metadata": {
    "collapsed": false
   },
   "outputs": [
    {
     "ename": "NameError",
     "evalue": "name 'kp' is not defined",
     "output_type": "error",
     "traceback": [
      "\u001b[0;31m---------------------------------------------------------------------------\u001b[0m",
      "\u001b[0;31mNameError\u001b[0m                                 Traceback (most recent call last)",
      "\u001b[0;32m<ipython-input-5-ea67dca4b440>\u001b[0m in \u001b[0;36m<module>\u001b[0;34m()\u001b[0m\n\u001b[1;32m      1\u001b[0m \u001b[0;32mfor\u001b[0m \u001b[0mno\u001b[0m \u001b[0;32min\u001b[0m \u001b[0mrange\u001b[0m\u001b[0;34m(\u001b[0m\u001b[0;36m3\u001b[0m\u001b[0;34m)\u001b[0m\u001b[0;34m:\u001b[0m\u001b[0;34m\u001b[0m\u001b[0m\n\u001b[1;32m      2\u001b[0m     \u001b[0mx\u001b[0m \u001b[0;34m=\u001b[0m \u001b[0mnp\u001b[0m\u001b[0;34m.\u001b[0m\u001b[0mrandom\u001b[0m\u001b[0;34m.\u001b[0m\u001b[0mnormal\u001b[0m\u001b[0;34m(\u001b[0m\u001b[0msize\u001b[0m\u001b[0;34m=\u001b[0m\u001b[0;34m(\u001b[0m\u001b[0;36m10\u001b[0m\u001b[0;34m,\u001b[0m \u001b[0;36m101\u001b[0m\u001b[0;34m,\u001b[0m \u001b[0;36m101\u001b[0m\u001b[0;34m,\u001b[0m \u001b[0mbands\u001b[0m\u001b[0;34m)\u001b[0m\u001b[0;34m)\u001b[0m\u001b[0;34m\u001b[0m\u001b[0m\n\u001b[0;32m----> 3\u001b[0;31m     \u001b[0my_\u001b[0m \u001b[0;34m=\u001b[0m \u001b[0msess\u001b[0m\u001b[0;34m.\u001b[0m\u001b[0mrun\u001b[0m\u001b[0;34m(\u001b[0m\u001b[0mtensors\u001b[0m\u001b[0;34m,\u001b[0m \u001b[0mfeed_dict\u001b[0m\u001b[0;34m=\u001b[0m\u001b[0;34m{\u001b[0m\u001b[0mcnn\u001b[0m\u001b[0;34m.\u001b[0m\u001b[0mtfx\u001b[0m\u001b[0;34m:\u001b[0m \u001b[0mx\u001b[0m\u001b[0;34m,\u001b[0m \u001b[0mcnn\u001b[0m\u001b[0;34m.\u001b[0m\u001b[0mtfkp\u001b[0m\u001b[0;34m:\u001b[0m \u001b[0mkp\u001b[0m\u001b[0;34m,\u001b[0m \u001b[0mcnn\u001b[0m\u001b[0;34m.\u001b[0m\u001b[0mtfacc\u001b[0m\u001b[0;34m:\u001b[0m \u001b[0macc\u001b[0m\u001b[0;34m}\u001b[0m\u001b[0;34m)\u001b[0m\u001b[0;34m\u001b[0m\u001b[0m\n\u001b[0m\u001b[1;32m      4\u001b[0m     \u001b[0my\u001b[0m \u001b[0;34m=\u001b[0m \u001b[0;34m[\u001b[0m\u001b[0mnp\u001b[0m\u001b[0;34m.\u001b[0m\u001b[0mappend\u001b[0m\u001b[0;34m(\u001b[0m\u001b[0mi\u001b[0m\u001b[0;34m,\u001b[0m \u001b[0mj\u001b[0m\u001b[0;34m,\u001b[0m \u001b[0maxis\u001b[0m\u001b[0;34m=\u001b[0m\u001b[0;36m0\u001b[0m\u001b[0;34m)\u001b[0m \u001b[0;32mfor\u001b[0m \u001b[0mi\u001b[0m\u001b[0;34m,\u001b[0m\u001b[0mj\u001b[0m \u001b[0;32min\u001b[0m \u001b[0mzip\u001b[0m\u001b[0;34m(\u001b[0m\u001b[0my\u001b[0m\u001b[0;34m,\u001b[0m\u001b[0my_\u001b[0m\u001b[0;34m)\u001b[0m\u001b[0;34m]\u001b[0m\u001b[0;34m\u001b[0m\u001b[0m\n\u001b[1;32m      5\u001b[0m     \u001b[0mprint\u001b[0m\u001b[0;34m(\u001b[0m\u001b[0mno\u001b[0m\u001b[0;34m,\u001b[0m \u001b[0mend\u001b[0m\u001b[0;34m=\u001b[0m\u001b[0;34m'... '\u001b[0m\u001b[0;34m,\u001b[0m \u001b[0mflush\u001b[0m\u001b[0;34m=\u001b[0m\u001b[0;32mTrue\u001b[0m\u001b[0;34m)\u001b[0m\u001b[0;34m\u001b[0m\u001b[0m\n",
      "\u001b[0;31mNameError\u001b[0m: name 'kp' is not defined"
     ]
    }
   ],
   "source": [
    "for no in range(3):\n",
    "    x = np.random.normal(size=(10, 101, 101, bands))\n",
    "    y_ = sess.run(tensors, feed_dict={cnn.tfx: x, cnn.tfkp: kp, cnn.tfacc: acc})\n",
    "    y = [np.append(i, j, axis=0) for i,j in zip(y,y_)]\n",
    "    print(no, end='... ', flush=True)"
   ]
  },
  {
   "cell_type": "code",
   "execution_count": 6,
   "metadata": {
    "collapsed": false,
    "scrolled": true
   },
   "outputs": [
    {
     "data": {
      "text/plain": [
       "[(539328, (10, 424, 424, 3), -3.2674074e-05, 0.99978817),\n",
       " (539328, (10, 424, 424, 3), -3.2674074e-05, 0.99978817),\n",
       " (178084, (10, 211, 211, 4), 0.0070961006, 1.039415),\n",
       " (178084, (10, 211, 211, 4), 0.0070961006, 1.039415),\n",
       " (356168, (10, 211, 211, 8), -0.031331178, 0.95333815),\n",
       " (356168, (10, 211, 211, 8), -0.031331178, 0.95333815),\n",
       " (174724, (10, 209, 209, 4), 0.18069285, 1.2866882),\n",
       " (174724, (10, 209, 209, 4), 0.18069285, 1.2866882),\n",
       " (349448, (10, 209, 209, 8), 0.1518323, 1.180337),\n",
       " (349448, (10, 209, 209, 8), 0.1518323, 1.180337),\n",
       " (84872, (10, 103, 103, 8), 0.6186229, 1.9180104),\n",
       " (84872, (10, 103, 103, 8), 0.6186229, 1.9180104),\n",
       " (169744, (10, 103, 103, 16), 0.23557712, 1.4380996),\n",
       " (169744, (10, 103, 103, 16), 0.23557712, 1.4380996),\n",
       " (81608, (10, 101, 101, 8), 0.15463896, 1.9222602),\n",
       " (81608, (10, 101, 101, 8), 0.15463896, 1.9222602),\n",
       " (163216, (10, 101, 101, 16), -0.30847421, 0.87923884),\n",
       " (163216, (10, 101, 101, 16), -0.30847421, 0.87923884),\n",
       " (38416, (10, 49, 49, 16), 0.74910641, 2.2577047),\n",
       " (38416, (10, 49, 49, 16), 0.74910641, 2.2577047),\n",
       " (76832, (10, 49, 49, 32), -0.080034718, 1.0782816),\n",
       " (76832, (10, 49, 49, 32), -0.080034718, 1.0782816),\n",
       " (35344, (10, 47, 47, 16), 1.2894186, 2.8667438),\n",
       " (35344, (10, 47, 47, 16), 1.2894186, 2.8667438),\n",
       " (70688, (10, 47, 47, 32), 1.2744197, 2.3113468),\n",
       " (70688, (10, 47, 47, 32), 1.2744197, 2.3113468),\n",
       " (15488, (10, 22, 22, 32), 3.3170938, 6.6549959),\n",
       " (15488, (10, 22, 22, 32), 3.3170938, 6.6549959),\n",
       " (30976, (10, 22, 22, 64), 1.1676339, 2.6843638),\n",
       " (30976, (10, 22, 22, 64), 1.1676339, 2.6843638),\n",
       " (12800, (10, 20, 20, 32), 6.3626308, 8.8150749),\n",
       " (12800, (10, 20, 20, 32), 6.3626308, 8.8150749),\n",
       " (25600, (10, 20, 20, 64), 3.2575097, 4.2123189),\n",
       " (25600, (10, 20, 20, 64), 3.2575097, 4.2123189),\n",
       " (5184, (10, 9, 9, 64), 10.411718, 17.522766),\n",
       " (5184, (10, 9, 9, 64), 10.411718, 17.522766),\n",
       " (10368, (10, 9, 9, 128), 2.6226599, 6.3958764),\n",
       " (10368, (10, 9, 9, 128), 2.6226599, 6.3958764),\n",
       " (6272, (10, 7, 7, 128), 16.098045, 27.263302),\n",
       " (6272, (10, 7, 7, 128), 16.098045, 27.263302),\n",
       " (12544, (10, 7, 7, 256), 13.565313, 16.300714),\n",
       " (12544, (10, 7, 7, 256), 13.565313, 16.300714),\n",
       " (128, (10, 128), 40.469566, 62.7048),\n",
       " (128, (10, 128), 40.469566, 62.7048),\n",
       " (256, (10, 256), 16.312397, 24.809088),\n",
       " (256, (10, 256), 16.312397, 24.809088),\n",
       " (256, (10, 256), 45.463081, 64.908035),\n",
       " (256, (10, 256), 45.463081, 64.908035),\n",
       " (512, (10, 512), 37.511253, 56.016983),\n",
       " (512, (10, 512), 37.511253, 56.016983),\n",
       " (256, (10, 256), 90.563797, 146.20576),\n",
       " (512, (10, 512), 44.933758, 69.872406)]"
      ]
     },
     "execution_count": 6,
     "metadata": {},
     "output_type": "execute_result"
    }
   ],
   "source": [
    "[(np.prod(t.shape[1:]), t.shape, np.mean(t), np.std(t)) for t in y]"
   ]
  },
  {
   "cell_type": "code",
   "execution_count": 7,
   "metadata": {
    "collapsed": false,
    "scrolled": true
   },
   "outputs": [
    {
     "data": {
      "text/plain": [
       "0.0"
      ]
     },
     "execution_count": 7,
     "metadata": {},
     "output_type": "execute_result"
    }
   ],
   "source": [
    "np.sum(y[11]==0.0) / y[11].size"
   ]
  },
  {
   "cell_type": "markdown",
   "metadata": {
    "collapsed": true
   },
   "source": [
    "## Normalisation propagation for pool max 2x2"
   ]
  },
  {
   "cell_type": "code",
   "execution_count": null,
   "metadata": {
    "collapsed": false
   },
   "outputs": [],
   "source": [
    "x = np.random.normal(size=(1000000, 4))\n",
    "x = np.amax(x, 1)\n",
    "m, s = (np.mean(x), np.std(x))\n",
    "a, b = 1/s, m/s\n",
    "(m,s),(a,b)"
   ]
  },
  {
   "cell_type": "code",
   "execution_count": null,
   "metadata": {
    "collapsed": false
   },
   "outputs": [],
   "source": [
    "x = np.random.normal(size=(1000000, 4))\n",
    "x = a * x - b\n",
    "x = np.amax(x, 1)\n",
    "np.mean(x), np.std(x)"
   ]
  },
  {
   "cell_type": "markdown",
   "metadata": {},
   "source": []
  }
 ],
 "metadata": {
  "kernelspec": {
   "display_name": "Python 3",
   "language": "python",
   "name": "python3"
  },
  "language_info": {
   "codemirror_mode": {
    "name": "ipython",
    "version": 3
   },
   "file_extension": ".py",
   "mimetype": "text/x-python",
   "name": "python",
   "nbconvert_exporter": "python",
   "pygments_lexer": "ipython3",
   "version": "3.5.3"
  }
 },
 "nbformat": 4,
 "nbformat_minor": 2
}
