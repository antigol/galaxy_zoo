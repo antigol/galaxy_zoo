{
 "cells": [
  {
   "cell_type": "code",
   "execution_count": 1,
   "metadata": {
    "collapsed": true
   },
   "outputs": [],
   "source": [
    "import tensorflow as tf\n",
    "import numpy as np\n",
    "import importlib.util"
   ]
  },
  {
   "cell_type": "code",
   "execution_count": 2,
   "metadata": {
    "collapsed": true
   },
   "outputs": [],
   "source": [
    "def load_module(path):\n",
    "    spec = importlib.util.spec_from_file_location(\"module.name\", path)\n",
    "    module = importlib.util.module_from_spec(spec)\n",
    "    spec.loader.exec_module(module)\n",
    "    return module\n",
    "\n",
    "def load_arch(arch_path):\n",
    "    arch = load_module(arch_path)\n",
    "    nn = arch.CNN()\n",
    "\n",
    "    g = tf.Graph()\n",
    "    with g.as_default():\n",
    "        nn.create_architecture()\n",
    "    return g, nn"
   ]
  },
  {
   "cell_type": "code",
   "execution_count": 6,
   "metadata": {
    "collapsed": false
   },
   "outputs": [],
   "source": [
    "baseline, _ = load_arch(\"arch_baseline.py\")\n",
    "invariant, _ = load_arch(\"arch_invariant_c.py\")"
   ]
  },
  {
   "cell_type": "code",
   "execution_count": 7,
   "metadata": {
    "collapsed": true
   },
   "outputs": [],
   "source": [
    "def count(graph):\n",
    "    variables = graph.get_collection(tf.GraphKeys.TRAINABLE_VARIABLES)\n",
    "    shapes = [x.get_shape().as_list() for x in variables]\n",
    "    return sum([np.prod(x) for x in shapes])\n",
    "\n",
    "def weights_and_filter(graph):\n",
    "    variables = graph.get_collection(tf.GraphKeys.TRAINABLE_VARIABLES)\n",
    "    variables = [x for x in variables if 'F' in x.name or 'W' in x.name]\n",
    "    xs = [(np.prod(x.get_shape().as_list()), x.get_shape().as_list(), x.name) for x in variables]\n",
    "    return sorted(xs)"
   ]
  },
  {
   "cell_type": "code",
   "execution_count": 8,
   "metadata": {
    "collapsed": false
   },
   "outputs": [
    {
     "data": {
      "text/plain": [
       "(15618341, 1351898)"
      ]
     },
     "execution_count": 8,
     "metadata": {},
     "output_type": "execute_result"
    }
   ],
   "source": [
    "count(baseline), count(invariant)"
   ]
  },
  {
   "cell_type": "code",
   "execution_count": null,
   "metadata": {
    "collapsed": false
   },
   "outputs": [],
   "source": [
    "list(zip(weights_and_filter(baseline), weights_and_filter(invariant)))"
   ]
  },
  {
   "cell_type": "code",
   "execution_count": null,
   "metadata": {
    "collapsed": true
   },
   "outputs": [],
   "source": []
  }
 ],
 "metadata": {
  "kernelspec": {
   "display_name": "Python 3",
   "language": "python",
   "name": "python3"
  },
  "language_info": {
   "codemirror_mode": {
    "name": "ipython",
    "version": 3
   },
   "file_extension": ".py",
   "mimetype": "text/x-python",
   "name": "python",
   "nbconvert_exporter": "python",
   "pygments_lexer": "ipython3",
   "version": "3.5.3"
  }
 },
 "nbformat": 4,
 "nbformat_minor": 2
}
