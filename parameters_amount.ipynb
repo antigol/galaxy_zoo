{
 "cells": [
  {
   "cell_type": "code",
   "execution_count": 1,
   "metadata": {
    "collapsed": true
   },
   "outputs": [],
   "source": [
    "import tensorflow as tf\n",
    "import numpy as np\n",
    "import importlib.util"
   ]
  },
  {
   "cell_type": "code",
   "execution_count": 2,
   "metadata": {
    "collapsed": true
   },
   "outputs": [],
   "source": [
    "def load_module(path):\n",
    "    spec = importlib.util.spec_from_file_location(\"module.name\", path)\n",
    "    module = importlib.util.module_from_spec(spec)\n",
    "    spec.loader.exec_module(module)\n",
    "    return module\n",
    "\n",
    "def load_arch(arch_path):\n",
    "    arch = load_module(arch_path)\n",
    "    nn = arch.CNN()\n",
    "\n",
    "    g = tf.Graph()\n",
    "    with g.as_default():\n",
    "        nn.create_architecture()\n",
    "    return g, nn"
   ]
  },
  {
   "cell_type": "code",
   "execution_count": 3,
   "metadata": {
    "collapsed": true
   },
   "outputs": [],
   "source": [
    "baseline, _ = load_arch(\"arch_baseline.py\")\n",
    "invariant, _ = load_arch(\"arch_invariant_a.py\")"
   ]
  },
  {
   "cell_type": "code",
   "execution_count": 4,
   "metadata": {
    "collapsed": true
   },
   "outputs": [],
   "source": [
    "def count(graph):\n",
    "    variables = graph.get_collection(tf.GraphKeys.TRAINABLE_VARIABLES)\n",
    "    shapes = [x.get_shape().as_list() for x in variables]\n",
    "    return sum([np.prod(x) for x in shapes])\n",
    "\n",
    "def weights_and_filter(graph):\n",
    "    variables = graph.get_collection(tf.GraphKeys.TRAINABLE_VARIABLES)\n",
    "    variables = [x for x in variables if 'F' in x.name or 'W' in x.name]\n",
    "    xs = [(np.prod(x.get_shape().as_list()), x.get_shape().as_list(), x.name) for x in variables]\n",
    "    return sorted(xs)"
   ]
  },
  {
   "cell_type": "code",
   "execution_count": 5,
   "metadata": {
    "collapsed": false
   },
   "outputs": [
    {
     "data": {
      "text/plain": [
       "(15618341, 4913561)"
      ]
     },
     "execution_count": 5,
     "metadata": {},
     "output_type": "execute_result"
    }
   ],
   "source": [
    "count(baseline), count(invariant)"
   ]
  },
  {
   "cell_type": "code",
   "execution_count": 6,
   "metadata": {
    "collapsed": false
   },
   "outputs": [
    {
     "data": {
      "text/plain": [
       "[((1728, [6, 6, 3, 16], 'nn/conv-3-16/F:0'),\n",
       "  (192, [4, 4, 3, 4], 'nn/conv-3-8x4/F:0')),\n",
       " ((2304, [3, 3, 16, 16], 'nn/conv-16-16/F:0'),\n",
       "  (1152, [3, 3, 32, 4], 'nn/conv-8x4-8x4/F:0')),\n",
       " ((4608, [3, 3, 16, 32], 'nn/conv-16-32/F:0'),\n",
       "  (4608, [3, 3, 64, 8], 'nn/conv-8x8-8x8/F:0')),\n",
       " ((9216, [3, 3, 32, 32], 'nn/conv-32-32/F:0'),\n",
       "  (6400, [5, 5, 32, 8], 'nn/conv-8x4-8x8/F:0')),\n",
       " ((18432, [3, 3, 32, 64], 'nn/conv-32-64/F:0'),\n",
       "  (9472, [256, 37], 'nn/fc-8x256-37/W:0')),\n",
       " ((36864, [3, 3, 64, 64], 'nn/conv-64-64/F:0'),\n",
       "  (18432, [3, 3, 128, 16], 'nn/conv-8x16-8x16/F:0')),\n",
       " ((36864, [3, 3, 64, 64], 'nn/conv-64-64_1/F:0'),\n",
       "  (25600, [5, 5, 64, 16], 'nn/conv-8x8-8x16/F:0')),\n",
       " ((37888, [1024, 37], 'nn/fc-1024-37/W:0'),\n",
       "  (73728, [3, 3, 256, 32], 'nn/conv-8x32-8x32/F:0')),\n",
       " ((73728, [3, 3, 64, 128], 'nn/conv-64-128/F:0'),\n",
       "  (102400, [5, 5, 128, 32], 'nn/conv-8x16-8x32/F:0')),\n",
       " ((147456, [3, 3, 128, 128], 'nn/conv-128-128/F:0'),\n",
       "  (147456, [3, 3, 64, 256], 'nn/conv-8x64-256/F:0')),\n",
       " ((294912, [3, 3, 128, 256], 'nn/conv-128-256/F:0'),\n",
       "  (262144, [4, 4, 256, 64], 'nn/conv-8x32-8x64/F:0')),\n",
       " ((1048576, [1024, 1024], 'nn/fc-1024-1024/W:0'),\n",
       "  (524288, [2048, 256], 'nn/fc-8x256-8x256/W:0')),\n",
       " ((1048576, [1024, 1024], 'nn/fc-1024-1024_1/W:0'),\n",
       "  (524288, [2048, 256], 'nn/fc-8x256-8x256_1/W:0')),\n",
       " ((12845056, [7, 7, 256, 1024], 'nn/conv-256-1024/F:0'),\n",
       "  (3211264, [7, 7, 256, 256], 'nn/conv-256-8x256/F:0'))]"
      ]
     },
     "execution_count": 6,
     "metadata": {},
     "output_type": "execute_result"
    }
   ],
   "source": [
    "list(zip(weights_and_filter(baseline), weights_and_filter(invariant)))"
   ]
  },
  {
   "cell_type": "code",
   "execution_count": null,
   "metadata": {
    "collapsed": true
   },
   "outputs": [],
   "source": []
  }
 ],
 "metadata": {
  "kernelspec": {
   "display_name": "Python 3",
   "language": "python",
   "name": "python3"
  },
  "language_info": {
   "codemirror_mode": {
    "name": "ipython",
    "version": 3
   },
   "file_extension": ".py",
   "mimetype": "text/x-python",
   "name": "python",
   "nbconvert_exporter": "python",
   "pygments_lexer": "ipython3",
   "version": "3.5.3"
  }
 },
 "nbformat": 4,
 "nbformat_minor": 2
}
